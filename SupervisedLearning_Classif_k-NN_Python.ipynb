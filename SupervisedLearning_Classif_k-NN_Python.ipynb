{
    "cells": [
        {
            "cell_type": "markdown",
            "metadata": {},
            "source": "#### Import the data:"
        },
        {
            "cell_type": "code",
            "execution_count": 1,
            "metadata": {
                "scrolled": true
            },
            "outputs": [
                {
                    "data": {
                        "text/html": "<div>\n<style scoped>\n    .dataframe tbody tr th:only-of-type {\n        vertical-align: middle;\n    }\n\n    .dataframe tbody tr th {\n        vertical-align: top;\n    }\n\n    .dataframe thead th {\n        text-align: right;\n    }\n</style>\n<table border=\"1\" class=\"dataframe\">\n  <thead>\n    <tr style=\"text-align: right;\">\n      <th></th>\n      <th>party</th>\n      <th>infants</th>\n      <th>water</th>\n      <th>budget</th>\n      <th>physician</th>\n      <th>salvador</th>\n      <th>religious</th>\n      <th>satellite</th>\n      <th>aid</th>\n      <th>missile</th>\n      <th>immigration</th>\n      <th>synfuels</th>\n      <th>education</th>\n      <th>superfund</th>\n      <th>crime</th>\n      <th>duty_free_exports</th>\n      <th>eaa_rsa</th>\n    </tr>\n  </thead>\n  <tbody>\n    <tr>\n      <th>0</th>\n      <td>republican</td>\n      <td>n</td>\n      <td>y</td>\n      <td>n</td>\n      <td>y</td>\n      <td>y</td>\n      <td>y</td>\n      <td>n</td>\n      <td>n</td>\n      <td>n</td>\n      <td>y</td>\n      <td>?</td>\n      <td>y</td>\n      <td>y</td>\n      <td>y</td>\n      <td>n</td>\n      <td>y</td>\n    </tr>\n    <tr>\n      <th>1</th>\n      <td>republican</td>\n      <td>n</td>\n      <td>y</td>\n      <td>n</td>\n      <td>y</td>\n      <td>y</td>\n      <td>y</td>\n      <td>n</td>\n      <td>n</td>\n      <td>n</td>\n      <td>n</td>\n      <td>n</td>\n      <td>y</td>\n      <td>y</td>\n      <td>y</td>\n      <td>n</td>\n      <td>?</td>\n    </tr>\n    <tr>\n      <th>2</th>\n      <td>democrat</td>\n      <td>?</td>\n      <td>y</td>\n      <td>y</td>\n      <td>?</td>\n      <td>y</td>\n      <td>y</td>\n      <td>n</td>\n      <td>n</td>\n      <td>n</td>\n      <td>n</td>\n      <td>y</td>\n      <td>n</td>\n      <td>y</td>\n      <td>y</td>\n      <td>n</td>\n      <td>n</td>\n    </tr>\n    <tr>\n      <th>3</th>\n      <td>democrat</td>\n      <td>n</td>\n      <td>y</td>\n      <td>y</td>\n      <td>n</td>\n      <td>?</td>\n      <td>y</td>\n      <td>n</td>\n      <td>n</td>\n      <td>n</td>\n      <td>n</td>\n      <td>y</td>\n      <td>n</td>\n      <td>y</td>\n      <td>n</td>\n      <td>n</td>\n      <td>y</td>\n    </tr>\n    <tr>\n      <th>4</th>\n      <td>democrat</td>\n      <td>y</td>\n      <td>y</td>\n      <td>y</td>\n      <td>n</td>\n      <td>y</td>\n      <td>y</td>\n      <td>n</td>\n      <td>n</td>\n      <td>n</td>\n      <td>n</td>\n      <td>y</td>\n      <td>?</td>\n      <td>y</td>\n      <td>y</td>\n      <td>y</td>\n      <td>y</td>\n    </tr>\n  </tbody>\n</table>\n</div>",
                        "text/plain": "        party infants water budget physician salvador religious satellite aid  \\\n0  republican       n     y      n         y        y         y         n   n   \n1  republican       n     y      n         y        y         y         n   n   \n2    democrat       ?     y      y         ?        y         y         n   n   \n3    democrat       n     y      y         n        ?         y         n   n   \n4    democrat       y     y      y         n        y         y         n   n   \n\n  missile immigration synfuels education superfund crime duty_free_exports  \\\n0       n           y        ?         y         y     y                 n   \n1       n           n        n         y         y     y                 n   \n2       n           n        y         n         y     y                 n   \n3       n           n        y         n         y     n                 n   \n4       n           n        y         ?         y     y                 y   \n\n  eaa_rsa  \n0       y  \n1       ?  \n2       n  \n3       y  \n4       y  "
                    },
                    "execution_count": 1,
                    "metadata": {},
                    "output_type": "execute_result"
                }
            ],
            "source": "# The code was removed by Watson Studio for sharing."
        },
        {
            "cell_type": "markdown",
            "metadata": {},
            "source": "#### Check the type of the table:"
        },
        {
            "cell_type": "code",
            "execution_count": 2,
            "metadata": {},
            "outputs": [
                {
                    "name": "stdout",
                    "output_type": "stream",
                    "text": "<class 'pandas.core.frame.DataFrame'>\n"
                }
            ],
            "source": "print(type(congress_df))"
        },
        {
            "cell_type": "markdown",
            "metadata": {},
            "source": "#### Info"
        },
        {
            "cell_type": "code",
            "execution_count": 3,
            "metadata": {},
            "outputs": [
                {
                    "name": "stdout",
                    "output_type": "stream",
                    "text": "<bound method DataFrame.info of           party infants water budget physician salvador religious satellite  \\\n0    republican       n     y      n         y        y         y         n   \n1    republican       n     y      n         y        y         y         n   \n2      democrat       ?     y      y         ?        y         y         n   \n3      democrat       n     y      y         n        ?         y         n   \n4      democrat       y     y      y         n        y         y         n   \n..          ...     ...   ...    ...       ...      ...       ...       ...   \n430  republican       n     n      y         y        y         y         n   \n431    democrat       n     n      y         n        n         n         y   \n432  republican       n     ?      n         y        y         y         n   \n433  republican       n     n      n         y        y         y         ?   \n434  republican       n     y      n         y        y         y         n   \n\n    aid missile immigration synfuels education superfund crime  \\\n0     n       n           y        ?         y         y     y   \n1     n       n           n        n         y         y     y   \n2     n       n           n        y         n         y     y   \n3     n       n           n        y         n         y     n   \n4     n       n           n        y         ?         y     y   \n..   ..     ...         ...      ...       ...       ...   ...   \n430   n       y           y        n         y         y     y   \n431   y       y           y        n         n         n     n   \n432   n       n           n        y         y         y     y   \n433   ?       ?           ?        n         y         y     y   \n434   n       n           y        n         y         y     y   \n\n    duty_free_exports eaa_rsa  \n0                   n       y  \n1                   n       ?  \n2                   n       n  \n3                   n       y  \n4                   y       y  \n..                ...     ...  \n430                 n       y  \n431                 n       y  \n432                 n       y  \n433                 n       y  \n434                 ?       n  \n\n[435 rows x 17 columns]>\n"
                }
            ],
            "source": "print(congress_df.info)"
        },
        {
            "cell_type": "markdown",
            "metadata": {},
            "source": "#### Numerical EDA"
        },
        {
            "cell_type": "code",
            "execution_count": 4,
            "metadata": {},
            "outputs": [
                {
                    "name": "stdout",
                    "output_type": "stream",
                    "text": "        party infants water budget physician salvador religious satellite aid  \\\n0  republican       n     y      n         y        y         y         n   n   \n1  republican       n     y      n         y        y         y         n   n   \n2    democrat       ?     y      y         ?        y         y         n   n   \n3    democrat       n     y      y         n        ?         y         n   n   \n4    democrat       y     y      y         n        y         y         n   n   \n\n  missile immigration synfuels education superfund crime duty_free_exports  \\\n0       n           y        ?         y         y     y                 n   \n1       n           n        n         y         y     y                 n   \n2       n           n        y         n         y     y                 n   \n3       n           n        y         n         y     n                 n   \n4       n           n        y         ?         y     y                 y   \n\n  eaa_rsa  \n0       y  \n1       ?  \n2       n  \n3       y  \n4       y  \n"
                }
            ],
            "source": "print(congress_df.head())"
        },
        {
            "cell_type": "markdown",
            "metadata": {},
            "source": "#### n to zero, y to 1, using applymap():"
        },
        {
            "cell_type": "code",
            "execution_count": 5,
            "metadata": {},
            "outputs": [],
            "source": "mymap = {'n': 0, 'y' : 1, '?' : 0}\ncongress_df = congress_df.applymap(lambda m: mymap.get(m) if m in mymap else m)"
        },
        {
            "cell_type": "markdown",
            "metadata": {},
            "source": "#### Check the type of a cell:"
        },
        {
            "cell_type": "code",
            "execution_count": 6,
            "metadata": {},
            "outputs": [
                {
                    "data": {
                        "text/plain": "numpy.int64"
                    },
                    "execution_count": 6,
                    "metadata": {},
                    "output_type": "execute_result"
                }
            ],
            "source": "type(congress_df.iloc[1,2])"
        },
        {
            "cell_type": "markdown",
            "metadata": {},
            "source": "#### Check the type of the data:"
        },
        {
            "cell_type": "code",
            "execution_count": 7,
            "metadata": {},
            "outputs": [
                {
                    "data": {
                        "text/plain": "pandas.core.frame.DataFrame"
                    },
                    "execution_count": 7,
                    "metadata": {},
                    "output_type": "execute_result"
                }
            ],
            "source": "type(congress_df)"
        },
        {
            "cell_type": "markdown",
            "metadata": {},
            "source": "#### Look the head of the data frame:"
        },
        {
            "cell_type": "code",
            "execution_count": 8,
            "metadata": {},
            "outputs": [
                {
                    "data": {
                        "text/html": "<div>\n<style scoped>\n    .dataframe tbody tr th:only-of-type {\n        vertical-align: middle;\n    }\n\n    .dataframe tbody tr th {\n        vertical-align: top;\n    }\n\n    .dataframe thead th {\n        text-align: right;\n    }\n</style>\n<table border=\"1\" class=\"dataframe\">\n  <thead>\n    <tr style=\"text-align: right;\">\n      <th></th>\n      <th>party</th>\n      <th>infants</th>\n      <th>water</th>\n      <th>budget</th>\n      <th>physician</th>\n      <th>salvador</th>\n      <th>religious</th>\n      <th>satellite</th>\n      <th>aid</th>\n      <th>missile</th>\n      <th>immigration</th>\n      <th>synfuels</th>\n      <th>education</th>\n      <th>superfund</th>\n      <th>crime</th>\n      <th>duty_free_exports</th>\n      <th>eaa_rsa</th>\n    </tr>\n  </thead>\n  <tbody>\n    <tr>\n      <th>0</th>\n      <td>republican</td>\n      <td>0</td>\n      <td>1</td>\n      <td>0</td>\n      <td>1</td>\n      <td>1</td>\n      <td>1</td>\n      <td>0</td>\n      <td>0</td>\n      <td>0</td>\n      <td>1</td>\n      <td>0</td>\n      <td>1</td>\n      <td>1</td>\n      <td>1</td>\n      <td>0</td>\n      <td>1</td>\n    </tr>\n    <tr>\n      <th>1</th>\n      <td>republican</td>\n      <td>0</td>\n      <td>1</td>\n      <td>0</td>\n      <td>1</td>\n      <td>1</td>\n      <td>1</td>\n      <td>0</td>\n      <td>0</td>\n      <td>0</td>\n      <td>0</td>\n      <td>0</td>\n      <td>1</td>\n      <td>1</td>\n      <td>1</td>\n      <td>0</td>\n      <td>0</td>\n    </tr>\n    <tr>\n      <th>2</th>\n      <td>democrat</td>\n      <td>0</td>\n      <td>1</td>\n      <td>1</td>\n      <td>0</td>\n      <td>1</td>\n      <td>1</td>\n      <td>0</td>\n      <td>0</td>\n      <td>0</td>\n      <td>0</td>\n      <td>1</td>\n      <td>0</td>\n      <td>1</td>\n      <td>1</td>\n      <td>0</td>\n      <td>0</td>\n    </tr>\n    <tr>\n      <th>3</th>\n      <td>democrat</td>\n      <td>0</td>\n      <td>1</td>\n      <td>1</td>\n      <td>0</td>\n      <td>0</td>\n      <td>1</td>\n      <td>0</td>\n      <td>0</td>\n      <td>0</td>\n      <td>0</td>\n      <td>1</td>\n      <td>0</td>\n      <td>1</td>\n      <td>0</td>\n      <td>0</td>\n      <td>1</td>\n    </tr>\n    <tr>\n      <th>4</th>\n      <td>democrat</td>\n      <td>1</td>\n      <td>1</td>\n      <td>1</td>\n      <td>0</td>\n      <td>1</td>\n      <td>1</td>\n      <td>0</td>\n      <td>0</td>\n      <td>0</td>\n      <td>0</td>\n      <td>1</td>\n      <td>0</td>\n      <td>1</td>\n      <td>1</td>\n      <td>1</td>\n      <td>1</td>\n    </tr>\n  </tbody>\n</table>\n</div>",
                        "text/plain": "        party  infants  water  budget  physician  salvador  religious  \\\n0  republican        0      1       0          1         1          1   \n1  republican        0      1       0          1         1          1   \n2    democrat        0      1       1          0         1          1   \n3    democrat        0      1       1          0         0          1   \n4    democrat        1      1       1          0         1          1   \n\n   satellite  aid  missile  immigration  synfuels  education  superfund  \\\n0          0    0        0            1         0          1          1   \n1          0    0        0            0         0          1          1   \n2          0    0        0            0         1          0          1   \n3          0    0        0            0         1          0          1   \n4          0    0        0            0         1          0          1   \n\n   crime  duty_free_exports  eaa_rsa  \n0      1                  0        1  \n1      1                  0        0  \n2      1                  0        0  \n3      0                  0        1  \n4      1                  1        1  "
                    },
                    "execution_count": 8,
                    "metadata": {},
                    "output_type": "execute_result"
                }
            ],
            "source": "congress_df.head()"
        },
        {
            "cell_type": "markdown",
            "metadata": {},
            "source": "#### Info of the data frame:"
        },
        {
            "cell_type": "code",
            "execution_count": 9,
            "metadata": {},
            "outputs": [
                {
                    "name": "stdout",
                    "output_type": "stream",
                    "text": "<class 'pandas.core.frame.DataFrame'>\nRangeIndex: 435 entries, 0 to 434\nData columns (total 17 columns):\n #   Column             Non-Null Count  Dtype \n---  ------             --------------  ----- \n 0   party              435 non-null    object\n 1   infants            435 non-null    int64 \n 2   water              435 non-null    int64 \n 3   budget             435 non-null    int64 \n 4   physician          435 non-null    int64 \n 5   salvador           435 non-null    int64 \n 6   religious          435 non-null    int64 \n 7   satellite          435 non-null    int64 \n 8   aid                435 non-null    int64 \n 9   missile            435 non-null    int64 \n 10  immigration        435 non-null    int64 \n 11  synfuels           435 non-null    int64 \n 12  education          435 non-null    int64 \n 13  superfund          435 non-null    int64 \n 14  crime              435 non-null    int64 \n 15  duty_free_exports  435 non-null    int64 \n 16  eaa_rsa            435 non-null    int64 \ndtypes: int64(16), object(1)\nmemory usage: 57.9+ KB\n"
                }
            ],
            "source": "congress_df.info()"
        },
        {
            "cell_type": "markdown",
            "metadata": {},
            "source": "#### Describe the data frame:"
        },
        {
            "cell_type": "code",
            "execution_count": 10,
            "metadata": {
                "scrolled": true
            },
            "outputs": [
                {
                    "data": {
                        "text/html": "<div>\n<style scoped>\n    .dataframe tbody tr th:only-of-type {\n        vertical-align: middle;\n    }\n\n    .dataframe tbody tr th {\n        vertical-align: top;\n    }\n\n    .dataframe thead th {\n        text-align: right;\n    }\n</style>\n<table border=\"1\" class=\"dataframe\">\n  <thead>\n    <tr style=\"text-align: right;\">\n      <th></th>\n      <th>infants</th>\n      <th>water</th>\n      <th>budget</th>\n      <th>physician</th>\n      <th>salvador</th>\n      <th>religious</th>\n      <th>satellite</th>\n      <th>aid</th>\n      <th>missile</th>\n      <th>immigration</th>\n      <th>synfuels</th>\n      <th>education</th>\n      <th>superfund</th>\n      <th>crime</th>\n      <th>duty_free_exports</th>\n      <th>eaa_rsa</th>\n    </tr>\n  </thead>\n  <tbody>\n    <tr>\n      <th>count</th>\n      <td>435.000000</td>\n      <td>435.000000</td>\n      <td>435.000000</td>\n      <td>435.000000</td>\n      <td>435.000000</td>\n      <td>435.000000</td>\n      <td>435.000000</td>\n      <td>435.000000</td>\n      <td>435.000000</td>\n      <td>435.000000</td>\n      <td>435.000000</td>\n      <td>435.000000</td>\n      <td>435.000000</td>\n      <td>435.000000</td>\n      <td>435.000000</td>\n      <td>435.000000</td>\n    </tr>\n    <tr>\n      <th>mean</th>\n      <td>0.429885</td>\n      <td>0.448276</td>\n      <td>0.581609</td>\n      <td>0.406897</td>\n      <td>0.487356</td>\n      <td>0.625287</td>\n      <td>0.549425</td>\n      <td>0.556322</td>\n      <td>0.475862</td>\n      <td>0.496552</td>\n      <td>0.344828</td>\n      <td>0.393103</td>\n      <td>0.480460</td>\n      <td>0.570115</td>\n      <td>0.400000</td>\n      <td>0.618391</td>\n    </tr>\n    <tr>\n      <th>std</th>\n      <td>0.495630</td>\n      <td>0.497890</td>\n      <td>0.493863</td>\n      <td>0.491821</td>\n      <td>0.500416</td>\n      <td>0.484606</td>\n      <td>0.498124</td>\n      <td>0.497390</td>\n      <td>0.499992</td>\n      <td>0.500564</td>\n      <td>0.475859</td>\n      <td>0.489002</td>\n      <td>0.500193</td>\n      <td>0.495630</td>\n      <td>0.490462</td>\n      <td>0.486341</td>\n    </tr>\n    <tr>\n      <th>min</th>\n      <td>0.000000</td>\n      <td>0.000000</td>\n      <td>0.000000</td>\n      <td>0.000000</td>\n      <td>0.000000</td>\n      <td>0.000000</td>\n      <td>0.000000</td>\n      <td>0.000000</td>\n      <td>0.000000</td>\n      <td>0.000000</td>\n      <td>0.000000</td>\n      <td>0.000000</td>\n      <td>0.000000</td>\n      <td>0.000000</td>\n      <td>0.000000</td>\n      <td>0.000000</td>\n    </tr>\n    <tr>\n      <th>25%</th>\n      <td>0.000000</td>\n      <td>0.000000</td>\n      <td>0.000000</td>\n      <td>0.000000</td>\n      <td>0.000000</td>\n      <td>0.000000</td>\n      <td>0.000000</td>\n      <td>0.000000</td>\n      <td>0.000000</td>\n      <td>0.000000</td>\n      <td>0.000000</td>\n      <td>0.000000</td>\n      <td>0.000000</td>\n      <td>0.000000</td>\n      <td>0.000000</td>\n      <td>0.000000</td>\n    </tr>\n    <tr>\n      <th>50%</th>\n      <td>0.000000</td>\n      <td>0.000000</td>\n      <td>1.000000</td>\n      <td>0.000000</td>\n      <td>0.000000</td>\n      <td>1.000000</td>\n      <td>1.000000</td>\n      <td>1.000000</td>\n      <td>0.000000</td>\n      <td>0.000000</td>\n      <td>0.000000</td>\n      <td>0.000000</td>\n      <td>0.000000</td>\n      <td>1.000000</td>\n      <td>0.000000</td>\n      <td>1.000000</td>\n    </tr>\n    <tr>\n      <th>75%</th>\n      <td>1.000000</td>\n      <td>1.000000</td>\n      <td>1.000000</td>\n      <td>1.000000</td>\n      <td>1.000000</td>\n      <td>1.000000</td>\n      <td>1.000000</td>\n      <td>1.000000</td>\n      <td>1.000000</td>\n      <td>1.000000</td>\n      <td>1.000000</td>\n      <td>1.000000</td>\n      <td>1.000000</td>\n      <td>1.000000</td>\n      <td>1.000000</td>\n      <td>1.000000</td>\n    </tr>\n    <tr>\n      <th>max</th>\n      <td>1.000000</td>\n      <td>1.000000</td>\n      <td>1.000000</td>\n      <td>1.000000</td>\n      <td>1.000000</td>\n      <td>1.000000</td>\n      <td>1.000000</td>\n      <td>1.000000</td>\n      <td>1.000000</td>\n      <td>1.000000</td>\n      <td>1.000000</td>\n      <td>1.000000</td>\n      <td>1.000000</td>\n      <td>1.000000</td>\n      <td>1.000000</td>\n      <td>1.000000</td>\n    </tr>\n  </tbody>\n</table>\n</div>",
                        "text/plain": "          infants       water      budget   physician    salvador   religious  \\\ncount  435.000000  435.000000  435.000000  435.000000  435.000000  435.000000   \nmean     0.429885    0.448276    0.581609    0.406897    0.487356    0.625287   \nstd      0.495630    0.497890    0.493863    0.491821    0.500416    0.484606   \nmin      0.000000    0.000000    0.000000    0.000000    0.000000    0.000000   \n25%      0.000000    0.000000    0.000000    0.000000    0.000000    0.000000   \n50%      0.000000    0.000000    1.000000    0.000000    0.000000    1.000000   \n75%      1.000000    1.000000    1.000000    1.000000    1.000000    1.000000   \nmax      1.000000    1.000000    1.000000    1.000000    1.000000    1.000000   \n\n        satellite         aid     missile  immigration    synfuels  \\\ncount  435.000000  435.000000  435.000000   435.000000  435.000000   \nmean     0.549425    0.556322    0.475862     0.496552    0.344828   \nstd      0.498124    0.497390    0.499992     0.500564    0.475859   \nmin      0.000000    0.000000    0.000000     0.000000    0.000000   \n25%      0.000000    0.000000    0.000000     0.000000    0.000000   \n50%      1.000000    1.000000    0.000000     0.000000    0.000000   \n75%      1.000000    1.000000    1.000000     1.000000    1.000000   \nmax      1.000000    1.000000    1.000000     1.000000    1.000000   \n\n        education   superfund       crime  duty_free_exports     eaa_rsa  \ncount  435.000000  435.000000  435.000000         435.000000  435.000000  \nmean     0.393103    0.480460    0.570115           0.400000    0.618391  \nstd      0.489002    0.500193    0.495630           0.490462    0.486341  \nmin      0.000000    0.000000    0.000000           0.000000    0.000000  \n25%      0.000000    0.000000    0.000000           0.000000    0.000000  \n50%      0.000000    0.000000    1.000000           0.000000    1.000000  \n75%      1.000000    1.000000    1.000000           1.000000    1.000000  \nmax      1.000000    1.000000    1.000000           1.000000    1.000000  "
                    },
                    "execution_count": 10,
                    "metadata": {},
                    "output_type": "execute_result"
                }
            ],
            "source": "congress_df.describe()"
        },
        {
            "cell_type": "markdown",
            "metadata": {},
            "source": "#### Look head of the data frame:"
        },
        {
            "cell_type": "code",
            "execution_count": 11,
            "metadata": {},
            "outputs": [
                {
                    "data": {
                        "text/html": "<div>\n<style scoped>\n    .dataframe tbody tr th:only-of-type {\n        vertical-align: middle;\n    }\n\n    .dataframe tbody tr th {\n        vertical-align: top;\n    }\n\n    .dataframe thead th {\n        text-align: right;\n    }\n</style>\n<table border=\"1\" class=\"dataframe\">\n  <thead>\n    <tr style=\"text-align: right;\">\n      <th></th>\n      <th>party</th>\n      <th>infants</th>\n      <th>water</th>\n      <th>budget</th>\n      <th>physician</th>\n      <th>salvador</th>\n      <th>religious</th>\n      <th>satellite</th>\n      <th>aid</th>\n      <th>missile</th>\n      <th>immigration</th>\n      <th>synfuels</th>\n      <th>education</th>\n      <th>superfund</th>\n      <th>crime</th>\n      <th>duty_free_exports</th>\n      <th>eaa_rsa</th>\n    </tr>\n  </thead>\n  <tbody>\n    <tr>\n      <th>0</th>\n      <td>republican</td>\n      <td>0</td>\n      <td>1</td>\n      <td>0</td>\n      <td>1</td>\n      <td>1</td>\n      <td>1</td>\n      <td>0</td>\n      <td>0</td>\n      <td>0</td>\n      <td>1</td>\n      <td>0</td>\n      <td>1</td>\n      <td>1</td>\n      <td>1</td>\n      <td>0</td>\n      <td>1</td>\n    </tr>\n    <tr>\n      <th>1</th>\n      <td>republican</td>\n      <td>0</td>\n      <td>1</td>\n      <td>0</td>\n      <td>1</td>\n      <td>1</td>\n      <td>1</td>\n      <td>0</td>\n      <td>0</td>\n      <td>0</td>\n      <td>0</td>\n      <td>0</td>\n      <td>1</td>\n      <td>1</td>\n      <td>1</td>\n      <td>0</td>\n      <td>0</td>\n    </tr>\n    <tr>\n      <th>2</th>\n      <td>democrat</td>\n      <td>0</td>\n      <td>1</td>\n      <td>1</td>\n      <td>0</td>\n      <td>1</td>\n      <td>1</td>\n      <td>0</td>\n      <td>0</td>\n      <td>0</td>\n      <td>0</td>\n      <td>1</td>\n      <td>0</td>\n      <td>1</td>\n      <td>1</td>\n      <td>0</td>\n      <td>0</td>\n    </tr>\n    <tr>\n      <th>3</th>\n      <td>democrat</td>\n      <td>0</td>\n      <td>1</td>\n      <td>1</td>\n      <td>0</td>\n      <td>0</td>\n      <td>1</td>\n      <td>0</td>\n      <td>0</td>\n      <td>0</td>\n      <td>0</td>\n      <td>1</td>\n      <td>0</td>\n      <td>1</td>\n      <td>0</td>\n      <td>0</td>\n      <td>1</td>\n    </tr>\n    <tr>\n      <th>4</th>\n      <td>democrat</td>\n      <td>1</td>\n      <td>1</td>\n      <td>1</td>\n      <td>0</td>\n      <td>1</td>\n      <td>1</td>\n      <td>0</td>\n      <td>0</td>\n      <td>0</td>\n      <td>0</td>\n      <td>1</td>\n      <td>0</td>\n      <td>1</td>\n      <td>1</td>\n      <td>1</td>\n      <td>1</td>\n    </tr>\n  </tbody>\n</table>\n</div>",
                        "text/plain": "        party  infants  water  budget  physician  salvador  religious  \\\n0  republican        0      1       0          1         1          1   \n1  republican        0      1       0          1         1          1   \n2    democrat        0      1       1          0         1          1   \n3    democrat        0      1       1          0         0          1   \n4    democrat        1      1       1          0         1          1   \n\n   satellite  aid  missile  immigration  synfuels  education  superfund  \\\n0          0    0        0            1         0          1          1   \n1          0    0        0            0         0          1          1   \n2          0    0        0            0         1          0          1   \n3          0    0        0            0         1          0          1   \n4          0    0        0            0         1          0          1   \n\n   crime  duty_free_exports  eaa_rsa  \n0      1                  0        1  \n1      1                  0        0  \n2      1                  0        0  \n3      0                  0        1  \n4      1                  1        1  "
                    },
                    "execution_count": 11,
                    "metadata": {},
                    "output_type": "execute_result"
                }
            ],
            "source": "congress_df.head()"
        },
        {
            "cell_type": "markdown",
            "metadata": {},
            "source": "#### Visual EDA"
        },
        {
            "cell_type": "code",
            "execution_count": 12,
            "metadata": {},
            "outputs": [],
            "source": "import matplotlib.pyplot as plt\nimport seaborn as sns"
        },
        {
            "cell_type": "code",
            "execution_count": 13,
            "metadata": {},
            "outputs": [
                {
                    "data": {
                        "image/png": "[encoded data removed]",
                        "text/plain": "<Figure size 432x288 with 1 Axes>"
                    },
                    "metadata": {
                        "needs_background": "light"
                    },
                    "output_type": "display_data"
                }
            ],
            "source": "plt.figure()\nsns.countplot(x='education', hue='party', data=congress_df, palette='RdBu')\nplt.xticks([0,1], ['No', 'Yes'])\nplt.show()"
        },
        {
            "cell_type": "code",
            "execution_count": 14,
            "metadata": {},
            "outputs": [
                {
                    "data": {
                        "image/png": "[encoded data removed]",
                        "text/plain": "<Figure size 432x288 with 1 Axes>"
                    },
                    "metadata": {
                        "needs_background": "light"
                    },
                    "output_type": "display_data"
                }
            ],
            "source": "plt.figure()\nsns.countplot(x='satellite', hue='party', data=congress_df, palette='RdBu')\nplt.xticks([0,1], ['No', 'Yes'])\nplt.show()"
        },
        {
            "cell_type": "code",
            "execution_count": 15,
            "metadata": {},
            "outputs": [
                {
                    "data": {
                        "image/png": "[encoded data removed]",
                        "text/plain": "<Figure size 432x288 with 1 Axes>"
                    },
                    "metadata": {
                        "needs_background": "light"
                    },
                    "output_type": "display_data"
                }
            ],
            "source": "plt.figure()\nsns.countplot(x='missile', hue='party', data=congress_df, palette='RdBu')\nplt.xticks([0,1], ['No', 'Yes'])\nplt.show()"
        },
        {
            "cell_type": "markdown",
            "metadata": {},
            "source": "#### k-Nearest Neighbors: Fit"
        },
        {
            "cell_type": "markdown",
            "metadata": {},
            "source": "#### import from sklearn:"
        },
        {
            "cell_type": "code",
            "execution_count": 16,
            "metadata": {},
            "outputs": [],
            "source": "from sklearn.neighbors import KNeighborsClassifier\nfrom sklearn.model_selection import train_test_split"
        },
        {
            "cell_type": "markdown",
            "metadata": {},
            "source": "#### the features and the response varibles:"
        },
        {
            "cell_type": "code",
            "execution_count": 17,
            "metadata": {},
            "outputs": [],
            "source": "y = congress_df['party'].values\nX = congress_df.drop('party', axis=1).values"
        },
        {
            "cell_type": "markdown",
            "metadata": {},
            "source": "#### split: train and test:"
        },
        {
            "cell_type": "code",
            "execution_count": 36,
            "metadata": {},
            "outputs": [],
            "source": "X_train, X_test, y_train, y_test = train_test_split(X, y, test_size = 0.2, random_state=23, stratify=y)"
        },
        {
            "cell_type": "code",
            "execution_count": 37,
            "metadata": {},
            "outputs": [
                {
                    "data": {
                        "text/plain": "(348, 16)"
                    },
                    "execution_count": 37,
                    "metadata": {},
                    "output_type": "execute_result"
                }
            ],
            "source": "X_train.shape"
        },
        {
            "cell_type": "code",
            "execution_count": 38,
            "metadata": {},
            "outputs": [
                {
                    "data": {
                        "text/plain": "(87, 16)"
                    },
                    "execution_count": 38,
                    "metadata": {},
                    "output_type": "execute_result"
                }
            ],
            "source": "X_test.shape"
        },
        {
            "cell_type": "markdown",
            "metadata": {},
            "source": "#### k-NN classifier:"
        },
        {
            "cell_type": "code",
            "execution_count": 19,
            "metadata": {},
            "outputs": [],
            "source": "knn = KNeighborsClassifier(n_neighbors = 6)"
        },
        {
            "cell_type": "markdown",
            "metadata": {},
            "source": "#### fitting:"
        },
        {
            "cell_type": "code",
            "execution_count": 20,
            "metadata": {},
            "outputs": [
                {
                    "data": {
                        "text/plain": "KNeighborsClassifier(n_neighbors=6)"
                    },
                    "execution_count": 20,
                    "metadata": {},
                    "output_type": "execute_result"
                }
            ],
            "source": "knn.fit(X_train, y_train)"
        },
        {
            "cell_type": "markdown",
            "metadata": {},
            "source": "#### accuracy:"
        },
        {
            "cell_type": "code",
            "execution_count": 21,
            "metadata": {},
            "outputs": [
                {
                    "name": "stdout",
                    "output_type": "stream",
                    "text": "0.9080459770114943\n"
                }
            ],
            "source": "print(knn.score(X_test, y_test))"
        },
        {
            "cell_type": "markdown",
            "metadata": {},
            "source": "#### predict:"
        },
        {
            "cell_type": "code",
            "execution_count": 22,
            "metadata": {},
            "outputs": [],
            "source": "y_pred = knn.predict(X_test)"
        },
        {
            "cell_type": "code",
            "execution_count": 23,
            "metadata": {},
            "outputs": [
                {
                    "name": "stdout",
                    "output_type": "stream",
                    "text": "['democrat' 'democrat' 'democrat' 'democrat' 'republican' 'democrat'\n 'republican' 'republican' 'republican' 'republican' 'democrat' 'democrat'\n 'democrat' 'democrat' 'democrat' 'democrat' 'republican' 'republican'\n 'democrat' 'republican' 'republican' 'democrat' 'democrat' 'democrat'\n 'democrat' 'democrat' 'republican' 'democrat' 'democrat' 'republican'\n 'democrat' 'democrat' 'republican' 'republican' 'republican' 'democrat'\n 'democrat' 'republican' 'republican' 'republican' 'democrat' 'republican'\n 'democrat' 'democrat' 'democrat' 'republican' 'republican' 'democrat'\n 'democrat' 'republican' 'republican' 'democrat' 'democrat' 'republican'\n 'republican' 'democrat' 'democrat' 'democrat' 'democrat' 'democrat'\n 'democrat' 'democrat' 'democrat' 'democrat' 'democrat' 'republican'\n 'republican' 'democrat' 'republican' 'republican' 'democrat' 'republican'\n 'republican' 'republican' 'democrat' 'democrat' 'republican' 'democrat'\n 'republican' 'republican' 'republican' 'democrat' 'democrat' 'democrat'\n 'democrat' 'democrat' 'republican']\n"
                }
            ],
            "source": "print(y_pred)"
        },
        {
            "cell_type": "markdown",
            "metadata": {},
            "source": "#### overfitting and underfitting?"
        },
        {
            "cell_type": "markdown",
            "metadata": {},
            "source": "##### arrays to store train and test accuracies:"
        },
        {
            "cell_type": "code",
            "execution_count": 30,
            "metadata": {},
            "outputs": [],
            "source": "import numpy as np\nneighbors = np.arange(1, 11)\ntrain_accuracy = np.empty(len(neighbors))\ntest_accuracy = np.empty(len(neighbors))"
        },
        {
            "cell_type": "markdown",
            "metadata": {},
            "source": "##### loop over k:"
        },
        {
            "cell_type": "code",
            "execution_count": 31,
            "metadata": {},
            "outputs": [],
            "source": "for i, k in enumerate(neighbors):\n    knn = KNeighborsClassifier(n_neighbors = k)\n    knn.fit(X_train, y_train)\n    train_accuracy[i] = knn.score(X_train, y_train)\n    test_accuracy[i] = knn.score(X_test, y_test)"
        },
        {
            "cell_type": "markdown",
            "metadata": {},
            "source": "##### plot:"
        },
        {
            "cell_type": "code",
            "execution_count": 32,
            "metadata": {},
            "outputs": [
                {
                    "data": {
                        "image/png": "[encoded data removed]",
                        "text/plain": "<Figure size 432x288 with 1 Axes>"
                    },
                    "metadata": {
                        "needs_background": "light"
                    },
                    "output_type": "display_data"
                }
            ],
            "source": "plt.title('k-NN: Varying Number of Neighbors')\nplt.plot(neighbors, test_accuracy, label = 'Testing Accuracy')\nplt.plot(neighbors, train_accuracy, label = 'Training Accuracy')\nplt.legend()\nplt.xlabel('Number of Neighbors')\nplt.ylabel('Accuracy')\nplt.show()"
        },
        {
            "cell_type": "markdown",
            "metadata": {},
            "source": "###### The test accuracy is highes in 8 neighbors..."
        },
        {
            "cell_type": "code",
            "execution_count": null,
            "metadata": {},
            "outputs": [],
            "source": ""
        }
    ],
    "metadata": {
        "kernelspec": {
            "display_name": "Python 3.7",
            "language": "python",
            "name": "python3"
        },
        "language_info": {
            "codemirror_mode": {
                "name": "ipython",
                "version": 3
            },
            "file_extension": ".py",
            "mimetype": "text/x-python",
            "name": "python",
            "nbconvert_exporter": "python",
            "pygments_lexer": "ipython3",
            "version": "3.7.10"
        }
    },
    "nbformat": 4,
    "nbformat_minor": 1
}